{
 "cells": [
  {
   "cell_type": "code",
   "execution_count": 103,
   "metadata": {},
   "outputs": [],
   "source": [
    "import pandas as pd\n",
    "import re\n",
    "import subprocess\n",
    "import uuid\n",
    "import csv\n",
    "import json\n",
    "import hashlib\n",
    "import os\n",
    "import shutil"
   ]
  },
  {
   "cell_type": "markdown",
   "metadata": {},
   "source": [
    "## Read the Config"
   ]
  },
  {
   "cell_type": "code",
   "execution_count": 104,
   "metadata": {},
   "outputs": [],
   "source": [
    "with open('config/exportMetadata.v2.json', 'r') as infile:\n",
    "    exportMetadata = json.load(infile)\n"
   ]
  },
  {
   "cell_type": "code",
   "execution_count": 105,
   "metadata": {},
   "outputs": [],
   "source": [
    "with open('config/Default.Project.json', 'r') as infile:\n",
    "    defaultProject = json.load(infile)\n"
   ]
  },
  {
   "cell_type": "markdown",
   "metadata": {},
   "source": [
    "## Read the plans"
   ]
  },
  {
   "cell_type": "code",
   "execution_count": 106,
   "metadata": {},
   "outputs": [],
   "source": [
    "# Read the execution plans\n",
    "dfPlans = pd.read_csv('in/plans.csv', dtype='str', encoding='utf-8', na_filter=False)"
   ]
  },
  {
   "cell_type": "code",
   "execution_count": 107,
   "metadata": {},
   "outputs": [
    {
     "data": {
      "text/plain": [
       "array(['Echo Employee Snapshot Oracle R12.1.3'], dtype=object)"
      ]
     },
     "execution_count": 107,
     "metadata": {},
     "output_type": "execute_result"
    }
   ],
   "source": [
    "# Get a list of unique execution plans\n",
    "plans = dfPlans['plan_name'].unique()\n",
    "plans"
   ]
  },
  {
   "cell_type": "markdown",
   "metadata": {},
   "source": [
    "## Create the Import Packages"
   ]
  },
  {
   "cell_type": "code",
   "execution_count": 108,
   "metadata": {},
   "outputs": [],
   "source": [
    "# For each unique plan\n",
    "for plan in plans:\n",
    "    \n",
    "    # Reset the output directory\n",
    "    shutil.rmtree('out')\n",
    "    os.makedirs(\"out/Explore/Default\")\n",
    "    \n",
    "    # Create IDs and a clean version of the name for the new taskflow\n",
    "    tName = re.sub(r'[^\\w\\d]+', '_', plan)\n",
    "    #tName = 'tf_Example'\n",
    "    projectID = str(uuid.uuid4()).replace('-','')\n",
    "    taskflowID = str(uuid.uuid4()).replace('-','')\n",
    "    mapID = '1jY0fuy0iEUhkrHVLx78WK' # TODO Update to dynamically get the correct mapping\n",
    "\n",
    "    # Create the ContentsofExportPackage File\n",
    "    content = {'objectPath': ['/Explore/Default','/Explore'], 'objectName': [tName, 'Default'], 'objectType': ['TASKFLOW', 'Project'], 'id': [taskflowID, projectID]}\n",
    "    contentDf = pd.DataFrame(data=content)\n",
    "    contentDf.to_csv(f'out/ContentsofExportPackage_{tName}.csv', index=False, quoting=csv.QUOTE_NONE)\n",
    "\n",
    "    # Create the exportMetadata file\n",
    "    exportMetadata['name'] = tName\n",
    "    taskflowObj = list(filter(lambda x: x['objectType'] == 'TASKFLOW', exportMetadata['exportedObjects']))[0]\n",
    "    taskflowObj['objectGuid'] = taskflowID\n",
    "    taskflowObj['objectName'] = tName\n",
    "    taskflowObj['metadata']['objectRefs'] = ['1jY0fuy0iEUhkrHVLx78WK'] # TODO Update to dynamically get the correct mapping\n",
    "    projectObj = list(filter(lambda x: x['objectType'] == 'Project', exportMetadata['exportedObjects']))[0]\n",
    "    projectObj['objectGuid'] = projectID\n",
    "    mappingObj = list(filter(lambda x: x['objectType'] == 'MTT', exportMetadata['exportedObjects']))[0]\n",
    "    mappingObj['objectGuid'] = '1jY0fuy0iEUhkrHVLx78WK' # TODO Update to dynamically get the correct mapping\n",
    "    mappingObj['objectName'] = 'mt_Example' # TODO Update to dynamically get the correct mapping\n",
    "    exportMetadata['exportedObjects'] = [taskflowObj, projectObj, mappingObj]\n",
    "    with open('out/exportMetadata.v2.json', 'w') as outfile:\n",
    "        outfile.write(json.dumps(exportMetadata))\n",
    "\n",
    "    # Create the Default.Project.json file\n",
    "    defaultProject['id'] = f'Projects({projectID})'\n",
    "    with open('out/Explore/Default.Project.json', 'w') as outfile:\n",
    "        outfile.write(json.dumps(defaultProject))\n",
    "\n",
    "    # Create the taskflow XML file\n",
    "    console = subprocess.run([\"java\", \"-Xmx14000M\", \"-cp\", \"../saxon-he-10.5.jar\", \"net.sf.saxon.Query\", \"-q:convert.xq\", f\"-o:out/Explore/Default/{tName}.TASKFLOW.xml\", f\"tname={tName}\", f\"tflowid={taskflowID}\"], capture_output=True)\n",
    "    \n",
    "    # Create the exportPackage.chksum file\n",
    "    with open('out/Explore/Default.Project.json', 'rb') as infile:\n",
    "        infileBytes = infile.read()\n",
    "        defaultProjectJsonHash = hashlib.sha256(infileBytes).hexdigest().upper()\n",
    "\n",
    "    with open('out/exportMetadata.v2.json', 'rb') as infile:\n",
    "        infileBytes = infile.read()\n",
    "        exportMetadataHash = hashlib.sha256(infileBytes).hexdigest().upper()\n",
    "\n",
    "    with open(f'out/Explore/Default/{tName}.TASKFLOW.xml', 'rb') as infile:\n",
    "        infileBytes = infile.read()\n",
    "        taskflowHash = hashlib.sha256(infileBytes).hexdigest().upper()\n",
    "    \n",
    "    lines = ['#\\n', '#Fri Dec 01 22:59:59 UTC 2023\\n', f'Explore/Default.Project.json={defaultProjectJsonHash}\\n', f'exportMetadata.v2.json={exportMetadataHash}\\n', f'Explore/Default/{tName}.TASKFLOW.xml={taskflowHash}\\n']\n",
    "    with open('out/exportPackage.chksum', 'w') as outfile:\n",
    "        outfile.writelines(lines)"
   ]
  },
  {
   "cell_type": "code",
   "execution_count": null,
   "metadata": {},
   "outputs": [],
   "source": []
  }
 ],
 "metadata": {
  "kernelspec": {
   "display_name": "base",
   "language": "python",
   "name": "python3"
  },
  "language_info": {
   "codemirror_mode": {
    "name": "ipython",
    "version": 3
   },
   "file_extension": ".py",
   "mimetype": "text/x-python",
   "name": "python",
   "nbconvert_exporter": "python",
   "pygments_lexer": "ipython3",
   "version": "3.9.13"
  }
 },
 "nbformat": 4,
 "nbformat_minor": 2
}
